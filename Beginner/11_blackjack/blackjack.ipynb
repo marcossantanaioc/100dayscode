{
 "cells": [
  {
   "cell_type": "code",
   "execution_count": 128,
   "id": "4ae7f79e-fbbe-4262-a01c-bfa05aff033e",
   "metadata": {},
   "outputs": [],
   "source": [
    "import itertools\n",
    "import random\n",
    "import os\n",
    "############### Blackjack Project #####################\n",
    "\n",
    "# Difficulty Normal 😎: Use all Hints below to complete the project.\n",
    "# Difficulty Hard 🤔: Use only Hints 1, 2, 3 to complete the project.\n",
    "# Difficulty Extra Hard 😭: Only use Hints 1 & 2 to complete the project.\n",
    "# Difficulty Expert 🤯: Only use Hint 1 to complete the project.\n",
    "\n",
    "############### Our Blackjack House Rules #####################\n",
    "\n",
    "## The deck is unlimited in size.\n",
    "## There are no jokers.\n",
    "## The Jack/Queen/King all count as 10.\n",
    "## The the Ace can count as 11 or 1.\n",
    "## Use the following list as the deck of cards:\n",
    "## cards = [11, 2, 3, 4, 5, 6, 7, 8, 9, 10, 10, 10, 10]\n",
    "## The cards in the list have equal probability of being drawn.\n",
    "## Cards are not removed from the deck as they are drawn.\n",
    "## The computer is the dealer.\n",
    "\n",
    "##################### Hints #####################\n",
    "\n",
    "# Hint 1: Go to this website and try out the Blackjack game:\n",
    "#   https://games.washingtonpost.com/games/blackjack/\n",
    "# Then try out the completed Blackjack project here:\n",
    "#   http://blackjack-final.appbrewery.repl.run\n",
    "\n",
    "# Hint 2: Read this breakdown of program requirements:\n",
    "#   http://listmoz.com/view/6h34DJpvJBFVRlZfJvxF\n",
    "# Then try to create your own flowchart for the program.\n",
    "\n"
   ]
  },
  {
   "cell_type": "code",
   "execution_count": 129,
   "id": "e6df20ec-e930-4f1f-a6d8-7695b41e7181",
   "metadata": {},
   "outputs": [],
   "source": [
    "def clear():\n",
    "    os.system('clear')"
   ]
  },
  {
   "cell_type": "code",
   "execution_count": 2,
   "id": "067a7412-903b-42cf-a6cd-4e412f7cf8ab",
   "metadata": {},
   "outputs": [
    {
     "name": "stdout",
     "output_type": "stream",
     "text": [
      "[('Spades', ('10', 10)), ('Clubs', ('10', 10)), ('Spades', ('6', 6)), ('Hearts', ('3', 3)), ('Diamonds', ('Jack', 10)), ('Diamonds', ('3', 3)), ('Clubs', ('8', 8)), ('Diamonds', ('4', 4)), ('Diamonds', ('Queen', 10)), ('Spades', ('8', 8)), ('Diamonds', ('2', 2)), ('Hearts', ('4', 4)), ('Diamonds', ('9', 9)), ('Diamonds', ('6', 6)), ('Diamonds', ('8', 8)), ('Clubs', ('King', 10)), ('Diamonds', ('7', 7)), ('Clubs', ('9', 9)), ('Spades', ('Queen', 10)), ('Clubs', ('2', 2)), ('Hearts', ('8', 8)), ('Hearts', ('7', 7)), ('Diamonds', ('5', 5)), ('Hearts', ('Ace', 11)), ('Clubs', ('Queen', 10)), ('Hearts', ('King', 10)), ('Spades', ('King', 10)), ('Clubs', ('Jack', 10)), ('Diamonds', ('King', 10)), ('Clubs', ('6', 6)), ('Hearts', ('10', 10)), ('Hearts', ('9', 9)), ('Spades', ('3', 3)), ('Spades', ('4', 4)), ('Spades', ('Ace', 11)), ('Clubs', ('5', 5)), ('Hearts', ('2', 2)), ('Spades', ('9', 9)), ('Clubs', ('7', 7)), ('Hearts', ('Queen', 10)), ('Clubs', ('4', 4)), ('Hearts', ('5', 5)), ('Hearts', ('Jack', 10)), ('Hearts', ('6', 6)), ('Diamonds', ('10', 10)), ('Clubs', ('3', 3)), ('Spades', ('5', 5)), ('Diamonds', ('Ace', 11)), ('Spades', ('2', 2)), ('Spades', ('7', 7)), ('Clubs', ('Ace', 11)), ('Spades', ('Jack', 10))]\n"
     ]
    }
   ],
   "source": [
    "CARD_VALUES = [11, 2, 3, 4, 5, 6, 7, 8, 9, 10, 10, 10, 10]\n",
    "CARD_NAMES = ['Ace', '2', '3', '4', '5', '6', '7', '8', '9', '10', 'Jack', 'Queen', 'King']\n",
    "SUITS = ['Spades', 'Diamonds', 'Hearts', 'Clubs']\n",
    "ALL_CARDS_VALUES = list(zip(CARD_NAMES, CARD_VALUES))\n",
    "DECK = list(itertools.product(SUITS, ALL_CARDS_VALUES))  # Expected a dict like: {'Clubs':{'King':10}}, got tuple ('Clubs', ('King', 10))\n",
    "random.shuffle(DECK)\n",
    "print(DECK)"
   ]
  },
  {
   "cell_type": "code",
   "execution_count": 72,
   "id": "d2fc191f-9ecd-4692-a52a-911f1f26b4cd",
   "metadata": {},
   "outputs": [],
   "source": [
    "def format_card(card):\n",
    "    \"\"\"\n",
    "    Formats a card draw from the deck.\n",
    "    Parameters\n",
    "    ----------\n",
    "    card\n",
    "        A card draw from the deck in the format\n",
    "        ('SUIT', ('CARD_NAME', 'CARD_VALUE'))\n",
    "    Returns\n",
    "    -------\n",
    "    card_string\n",
    "        String representation with card value and suit.\n",
    "    \n",
    "    \"\"\"\n",
    "    suit, name_value = card\n",
    "    return f\"{name_value[0]} of {suit}\"\n",
    "\n",
    "def deal_one():\n",
    "    \"\"\"\n",
    "    Deals a random card from the deck.\n",
    "    Returns\n",
    "    -------\n",
    "        A random card from DECK\n",
    "    \"\"\"\n",
    "    card_index = random.randint(0, len(DECK) - 1)\n",
    "    return DECK[card_index]\n",
    "\n",
    "    \n",
    "def deal_hand():\n",
    "    \"\"\"\n",
    "    Deals a hand (2 cards) from the deck.\n",
    "    Returns\n",
    "    -------\n",
    "        A random card from DECK\n",
    "    \"\"\"\n",
    "    return [deal_one(), deal_one()]\n",
    "\n",
    "def get_cards_total(cards):\n",
    "    sum = 0\n",
    "    for card in cards:\n",
    "        _, name_value = card\n",
    "        sum += name_value[1]\n",
    "    return sum\n",
    "\n",
    "    "
   ]
  },
  {
   "cell_type": "code",
   "execution_count": 73,
   "id": "cbc69df5-2573-4072-92a7-e73d7acc9fc2",
   "metadata": {},
   "outputs": [],
   "source": [
    "card = deal_one()"
   ]
  },
  {
   "cell_type": "code",
   "execution_count": 74,
   "id": "293f35b4-3ebb-4682-bf76-371b7010d51e",
   "metadata": {},
   "outputs": [
    {
     "data": {
      "text/plain": [
       "('Clubs', ('7', 7))"
      ]
     },
     "execution_count": 74,
     "metadata": {},
     "output_type": "execute_result"
    }
   ],
   "source": [
    "card"
   ]
  },
  {
   "cell_type": "code",
   "execution_count": 75,
   "id": "7dcf336c-5656-4c14-a6f1-9229c90d5526",
   "metadata": {},
   "outputs": [
    {
     "data": {
      "text/plain": [
       "[('Clubs', ('8', 8)), ('Diamonds', ('King', 10))]"
      ]
     },
     "execution_count": 75,
     "metadata": {},
     "output_type": "execute_result"
    }
   ],
   "source": [
    "hand = deal_hand()\n",
    "hand"
   ]
  },
  {
   "cell_type": "code",
   "execution_count": 76,
   "id": "d3881c3f-2517-4918-b993-c9c98520bd01",
   "metadata": {},
   "outputs": [
    {
     "name": "stdout",
     "output_type": "stream",
     "text": [
      "52\n"
     ]
    }
   ],
   "source": [
    "print(len(DECK))"
   ]
  },
  {
   "cell_type": "code",
   "execution_count": 178,
   "id": "b4006e8c-fd2d-4b57-b852-5f835f1d76ff",
   "metadata": {},
   "outputs": [],
   "source": [
    "def take_turn():\n",
    "    action = str(input(\"What do you want to do: 'hit', 'stand', 'double down' or 'surrender':\\n\")).lower()\n",
    "    return action"
   ]
  },
  {
   "cell_type": "code",
   "execution_count": 168,
   "id": "e98f63b4-c7c1-46a4-89fe-49a826ad6f13",
   "metadata": {},
   "outputs": [],
   "source": [
    "def hit(player_hand, deal_more: bool=True):\n",
    "    \n",
    "    while deal_more:\n",
    "        print(f\"Dealing one more card.\")\n",
    "        player_hand.append(deal_one())\n",
    "        \n",
    "        # Check points\n",
    "        points = get_cards_total(player_hand)\n",
    "        print(points)\n",
    "\n",
    "        if points >= 21:\n",
    "            deal_more = False\n",
    "            \n",
    "    return player_hand\n",
    "        \n",
    "        \n",
    "def stand(*args, **kwargs):\n",
    "    pass\n",
    "\n",
    "def split(*args, **kwargs):\n",
    "    pass\n",
    "\n",
    "def double_down(bet, *args, **kwargs):\n",
    "    bet *= 2 \n",
    "    return bet, deal_one()\n",
    "\n",
    "def surrender():\n",
    "    return False"
   ]
  },
  {
   "cell_type": "code",
   "execution_count": 169,
   "id": "a404b76b-bb5b-4197-a66d-b82a1f88d822",
   "metadata": {
    "scrolled": true
   },
   "outputs": [
    {
     "name": "stdout",
     "output_type": "stream",
     "text": [
      "Dealing one more card.\n",
      "11\n",
      "Dealing one more card.\n",
      "16\n",
      "Dealing one more card.\n",
      "21\n"
     ]
    },
    {
     "data": {
      "text/plain": [
       "[('Diamonds', ('2', 2)),\n",
       " ('Clubs', ('9', 9)),\n",
       " ('Clubs', ('5', 5)),\n",
       " ('Hearts', ('5', 5))]"
      ]
     },
     "execution_count": 169,
     "metadata": {},
     "output_type": "execute_result"
    }
   ],
   "source": [
    "hand = [('Diamonds', ('2', 2))]\n",
    "hit(hand, deal_more=True)"
   ]
  },
  {
   "cell_type": "code",
   "execution_count": 119,
   "id": "5b462c7a-3a20-480d-8a6a-3a755b7ad69a",
   "metadata": {},
   "outputs": [],
   "source": [
    "START_GAME = True\n",
    "CHIPS = 500\n",
    "BET = 100\n",
    "iterations = 0"
   ]
  },
  {
   "cell_type": "code",
   "execution_count": 171,
   "id": "45c0bf83-f031-4780-9975-8b0c52d9bb0e",
   "metadata": {},
   "outputs": [],
   "source": [
    "def show_hand(player, cards):\n",
    "    text = f\"{player}'s cards: \"\n",
    "    for idx, card in enumerate(cards):\n",
    "        card_format = format_card(card)\n",
    "        text += f'{card_format}, '\n",
    "    return text"
   ]
  },
  {
   "cell_type": "code",
   "execution_count": 121,
   "id": "22629edf-648a-4791-b63c-e3fcf9cce688",
   "metadata": {},
   "outputs": [],
   "source": [
    "END_DICT = {'bust':0, 'blackjack':0, 'dealer_win':0, 'player_win':0, 'push':0}"
   ]
  },
  {
   "cell_type": "code",
   "execution_count": 135,
   "id": "674964de-7359-4be0-a817-c094e76b413e",
   "metadata": {},
   "outputs": [],
   "source": [
    "def blackjack_flow(player_score, dealer_score):\n",
    "    result = ''\n",
    "    if dealer_score > 21:\n",
    "        result = 'bust'\n",
    "        print(\"Dealer bust!\")\n",
    "\n",
    "    elif player_score > 21:\n",
    "        result = 'bust'\n",
    "        print(\"Dealer bust!\")\n",
    "\n",
    "    elif dealer_score and player_score > 21:\n",
    "        result = 'bust'\n",
    "        print('Both bust')\n",
    "        \n",
    "    elif dealer_score == 21 and player_score != 21:\n",
    "        result = 'blackjack'\n",
    "        print(f\"Dealer blackjack!\")\n",
    "\n",
    "    elif dealer_score != 21 and player_score == 21:\n",
    "        result = 'blackjack'\n",
    "        print(f\"Player blackjack!\")\n",
    "\n",
    "    elif dealer_score > player_score and dealer_score != 21:\n",
    "        result = 'dealer_win'\n",
    "        print(f\"Dealer wins\")\n",
    "\n",
    "\n",
    "    elif player_score > dealer_score and player_sum != 21:\n",
    "        result = 'player_win'\n",
    "        print(f\"Player wins\")\n",
    "\n",
    "    elif player_score == dealer_score:\n",
    "        result = 'push'\n",
    "        print(f\"Push\")\n",
    "\n",
    "    return result"
   ]
  },
  {
   "cell_type": "code",
   "execution_count": 181,
   "id": "ac492e43-7514-4746-a363-f3fa9fa377e3",
   "metadata": {
    "scrolled": true
   },
   "outputs": [
    {
     "name": "stdout",
     "output_type": "stream",
     "text": [
      "Chips left: 500\n",
      "Bet: 100\n",
      "Player's cards: 6 of Clubs, 5 of Hearts, \n",
      "---------------\n",
      "Dealer's cards: King of Diamonds, Ace of Hearts, \n",
      "\n",
      "Let's play\n"
     ]
    },
    {
     "name": "stdin",
     "output_type": "stream",
     "text": [
      "What do you want to do: 'hit', 'stand', 'double down' or 'surrender':\n",
      " hit\n"
     ]
    },
    {
     "name": "stdout",
     "output_type": "stream",
     "text": [
      "\u001b[H\u001b[2JDealing one more card.\n",
      "14\n",
      "Dealing one more card.\n",
      "20\n",
      "Dealing one more card.\n",
      "22\n",
      "Player's hands:\n",
      "\n",
      "Player's cards: 6 of Clubs, 5 of Hearts, 3 of Spades, 6 of Hearts, 2 of Diamonds, \n",
      "\u001b[H\u001b[2JChips left: 400\n",
      "Bet: 100\n",
      "Player's cards: 3 of Clubs, 10 of Spades, \n",
      "---------------\n",
      "Dealer's cards: 8 of Spades, 3 of Spades, \n",
      "\n",
      "Let's play\n"
     ]
    },
    {
     "ename": "KeyboardInterrupt",
     "evalue": "Interrupted by user",
     "output_type": "error",
     "traceback": [
      "\u001b[0;31m---------------------------------------------------------------------------\u001b[0m",
      "\u001b[0;31mKeyboardInterrupt\u001b[0m                         Traceback (most recent call last)",
      "Cell \u001b[0;32mIn[181], line 19\u001b[0m\n\u001b[1;32m     16\u001b[0m \u001b[38;5;28mprint\u001b[39m()\n\u001b[1;32m     18\u001b[0m \u001b[38;5;28mprint\u001b[39m(\u001b[38;5;124m\"\u001b[39m\u001b[38;5;124mLet\u001b[39m\u001b[38;5;124m'\u001b[39m\u001b[38;5;124ms play\u001b[39m\u001b[38;5;124m\"\u001b[39m)\n\u001b[0;32m---> 19\u001b[0m action \u001b[38;5;241m=\u001b[39m \u001b[43mtake_turn\u001b[49m\u001b[43m(\u001b[49m\u001b[43m)\u001b[49m\n\u001b[1;32m     20\u001b[0m clear()\n\u001b[1;32m     22\u001b[0m \u001b[38;5;28;01mif\u001b[39;00m action \u001b[38;5;241m==\u001b[39m \u001b[38;5;124m'\u001b[39m\u001b[38;5;124mhit\u001b[39m\u001b[38;5;124m'\u001b[39m:\n",
      "Cell \u001b[0;32mIn[178], line 2\u001b[0m, in \u001b[0;36mtake_turn\u001b[0;34m()\u001b[0m\n\u001b[1;32m      1\u001b[0m \u001b[38;5;28;01mdef\u001b[39;00m \u001b[38;5;21mtake_turn\u001b[39m():\n\u001b[0;32m----> 2\u001b[0m     action \u001b[38;5;241m=\u001b[39m \u001b[38;5;28mstr\u001b[39m(\u001b[38;5;28;43minput\u001b[39;49m\u001b[43m(\u001b[49m\u001b[38;5;124;43m\"\u001b[39;49m\u001b[38;5;124;43mWhat do you want to do: \u001b[39;49m\u001b[38;5;124;43m'\u001b[39;49m\u001b[38;5;124;43mhit\u001b[39;49m\u001b[38;5;124;43m'\u001b[39;49m\u001b[38;5;124;43m, \u001b[39;49m\u001b[38;5;124;43m'\u001b[39;49m\u001b[38;5;124;43mstand\u001b[39;49m\u001b[38;5;124;43m'\u001b[39;49m\u001b[38;5;124;43m, \u001b[39;49m\u001b[38;5;124;43m'\u001b[39;49m\u001b[38;5;124;43mdouble down\u001b[39;49m\u001b[38;5;124;43m'\u001b[39;49m\u001b[38;5;124;43m or \u001b[39;49m\u001b[38;5;124;43m'\u001b[39;49m\u001b[38;5;124;43msurrender\u001b[39;49m\u001b[38;5;124;43m'\u001b[39;49m\u001b[38;5;124;43m:\u001b[39;49m\u001b[38;5;130;43;01m\\n\u001b[39;49;00m\u001b[38;5;124;43m\"\u001b[39;49m\u001b[43m)\u001b[49m)\u001b[38;5;241m.\u001b[39mlower()\n\u001b[1;32m      3\u001b[0m     \u001b[38;5;28;01mreturn\u001b[39;00m action\n",
      "File \u001b[0;32m~/miniconda3/envs/100dayscode/lib/python3.10/site-packages/ipykernel/kernelbase.py:1191\u001b[0m, in \u001b[0;36mKernel.raw_input\u001b[0;34m(self, prompt)\u001b[0m\n\u001b[1;32m   1189\u001b[0m     msg \u001b[38;5;241m=\u001b[39m \u001b[38;5;124m\"\u001b[39m\u001b[38;5;124mraw_input was called, but this frontend does not support input requests.\u001b[39m\u001b[38;5;124m\"\u001b[39m\n\u001b[1;32m   1190\u001b[0m     \u001b[38;5;28;01mraise\u001b[39;00m StdinNotImplementedError(msg)\n\u001b[0;32m-> 1191\u001b[0m \u001b[38;5;28;01mreturn\u001b[39;00m \u001b[38;5;28;43mself\u001b[39;49m\u001b[38;5;241;43m.\u001b[39;49m\u001b[43m_input_request\u001b[49m\u001b[43m(\u001b[49m\n\u001b[1;32m   1192\u001b[0m \u001b[43m    \u001b[49m\u001b[38;5;28;43mstr\u001b[39;49m\u001b[43m(\u001b[49m\u001b[43mprompt\u001b[49m\u001b[43m)\u001b[49m\u001b[43m,\u001b[49m\n\u001b[1;32m   1193\u001b[0m \u001b[43m    \u001b[49m\u001b[38;5;28;43mself\u001b[39;49m\u001b[38;5;241;43m.\u001b[39;49m\u001b[43m_parent_ident\u001b[49m\u001b[43m[\u001b[49m\u001b[38;5;124;43m\"\u001b[39;49m\u001b[38;5;124;43mshell\u001b[39;49m\u001b[38;5;124;43m\"\u001b[39;49m\u001b[43m]\u001b[49m\u001b[43m,\u001b[49m\n\u001b[1;32m   1194\u001b[0m \u001b[43m    \u001b[49m\u001b[38;5;28;43mself\u001b[39;49m\u001b[38;5;241;43m.\u001b[39;49m\u001b[43mget_parent\u001b[49m\u001b[43m(\u001b[49m\u001b[38;5;124;43m\"\u001b[39;49m\u001b[38;5;124;43mshell\u001b[39;49m\u001b[38;5;124;43m\"\u001b[39;49m\u001b[43m)\u001b[49m\u001b[43m,\u001b[49m\n\u001b[1;32m   1195\u001b[0m \u001b[43m    \u001b[49m\u001b[43mpassword\u001b[49m\u001b[38;5;241;43m=\u001b[39;49m\u001b[38;5;28;43;01mFalse\u001b[39;49;00m\u001b[43m,\u001b[49m\n\u001b[1;32m   1196\u001b[0m \u001b[43m\u001b[49m\u001b[43m)\u001b[49m\n",
      "File \u001b[0;32m~/miniconda3/envs/100dayscode/lib/python3.10/site-packages/ipykernel/kernelbase.py:1234\u001b[0m, in \u001b[0;36mKernel._input_request\u001b[0;34m(self, prompt, ident, parent, password)\u001b[0m\n\u001b[1;32m   1231\u001b[0m \u001b[38;5;28;01mexcept\u001b[39;00m \u001b[38;5;167;01mKeyboardInterrupt\u001b[39;00m:\n\u001b[1;32m   1232\u001b[0m     \u001b[38;5;66;03m# re-raise KeyboardInterrupt, to truncate traceback\u001b[39;00m\n\u001b[1;32m   1233\u001b[0m     msg \u001b[38;5;241m=\u001b[39m \u001b[38;5;124m\"\u001b[39m\u001b[38;5;124mInterrupted by user\u001b[39m\u001b[38;5;124m\"\u001b[39m\n\u001b[0;32m-> 1234\u001b[0m     \u001b[38;5;28;01mraise\u001b[39;00m \u001b[38;5;167;01mKeyboardInterrupt\u001b[39;00m(msg) \u001b[38;5;28;01mfrom\u001b[39;00m \u001b[38;5;28;01mNone\u001b[39;00m\n\u001b[1;32m   1235\u001b[0m \u001b[38;5;28;01mexcept\u001b[39;00m \u001b[38;5;167;01mException\u001b[39;00m:\n\u001b[1;32m   1236\u001b[0m     \u001b[38;5;28mself\u001b[39m\u001b[38;5;241m.\u001b[39mlog\u001b[38;5;241m.\u001b[39mwarning(\u001b[38;5;124m\"\u001b[39m\u001b[38;5;124mInvalid Message:\u001b[39m\u001b[38;5;124m\"\u001b[39m, exc_info\u001b[38;5;241m=\u001b[39m\u001b[38;5;28;01mTrue\u001b[39;00m)\n",
      "\u001b[0;31mKeyboardInterrupt\u001b[0m: Interrupted by user"
     ]
    }
   ],
   "source": [
    "START_GAME = True\n",
    "CHIPS = 500\n",
    "BET = 100\n",
    "iterations = 0\n",
    "\n",
    "while START_GAME is True:\n",
    "    print(f\"Chips left: {CHIPS}\")\n",
    "    print(f\"Bet: {BET}\")\n",
    "    CHIPS -= BET\n",
    "    player_hand = deal_hand()\n",
    "    dealer_hand = deal_hand()\n",
    "\n",
    "    print(show_hand('Player', player_hand))\n",
    "    print(\"---------------\")\n",
    "    print(show_hand('Dealer', dealer_hand))\n",
    "    print()\n",
    "\n",
    "    print(\"Let's play\")\n",
    "    action = take_turn()\n",
    "    clear()\n",
    "\n",
    "    if action == 'hit':\n",
    "        deal_more = True\n",
    "        player_hand = hit(player_hand, deal_more=deal_more)\n",
    "        print(f\"Player's hands:\\n\")\n",
    "        print(show_hand('Player', player_hand))\n",
    "        clear()\n",
    "\n",
    "    # if action == 'surrender':\n",
    "    #     CHIPS += BET//2\n",
    "    #     print(f\"Returning half of your ${BET}.\\nYou still have ${CHIPS} left.\")\n",
    "    #     START_GAME = False\n",
    "\n",
    "    # elif action == 'hit':\n",
    "    #     print('Dealing one more card.')\n",
    "    #     player_hand.append(deal_one())\n",
    "\n",
    "    # elif action == 'stand':\n",
    "    #     print(f\"Showing hands:\\n\")\n",
    "    #     print(show_hand('Player', player_hand))\n",
    "    #     print(\"---------------\")\n",
    "    #     print(show_hand('Dealer', dealer_hand))\n",
    "    #     print()\n",
    "    #     player_sum = get_cards_total(player_hand)\n",
    "    #     dealer_sum =  get_cards_total(dealer_hand)\n",
    "    #     CHIPS, result = blackjack_flow(player_sum, dealer_sum, CHIPS, BET)\n",
    "    #     START_GAME = False\n",
    "\n",
    "        \n",
    "        \n",
    "\n",
    "    # elif action == 'hit':\n",
    "    #     print('Dealing one more card.')\n",
    "    #     player_hand.append(deal_one())\n",
    "    #     deal_more = str(input(\"Deal one more?: 'y' or 'n'\"))\n",
    "        \n",
    "        # # Check sum\n",
    "        # while deal_more == 'y':\n",
    "            \n",
    "        #     player_points =  get_cards_total(player_hand)\n",
    "        # if  > 21:\n",
    "        #     print('BUST!')\n",
    "        #     continue_playing = str(input(\"Play again?: 'yes' or 'no': \"))\n",
    "        #     if continue_playing == 'yes':\n",
    "        #         START_GAME = False\n",
    "            \n",
    "\n",
    "    # elif action == 'surrender':\n",
    "    #     p\n",
    "\n",
    "    # else:\n",
    "    #     # Check sums\n",
    "    #     if action\n",
    "    #     print(\"Show hands\")\n",
    "    #     player_sum = get_cards_total(player_hand)\n",
    "    #     dealer_sum =  get_cards_total(dealer_hand)\n",
    "    \n",
    "    #     print(f\"Player's cards:\\n{format_card(player_hand[0])}\\n{format_card(player_hand[1])}\")\n",
    "    #     print(\"---------------\")\n",
    "    #     print(f\"Dealers's cards:\\n{format_card(dealer_hand[0])}\\n{format_card(dealer_hand[1])}\")\n",
    "    \n",
    "    #     print()\n",
    "    \n",
    "    #     print(f\"Player score: {player_sum}\")\n",
    "    #     print(f\"Dealer score: {dealer_sum}\")\n",
    "    \n",
    "    #     print()\n",
    "    \n",
    "\n",
    "    \n",
    "    #     print(\"###########################\")\n",
    "    #     print()\n",
    "        \n",
    "    #     iterations += 1    \n",
    "    #     # if CHIPS <= 0:\n",
    "    #     #     START_GAME = False\n"
   ]
  },
  {
   "cell_type": "code",
   "execution_count": 18,
   "id": "01ca529b-15f1-41fa-a6a8-98910de98ab4",
   "metadata": {},
   "outputs": [],
   "source": []
  },
  {
   "cell_type": "code",
   "execution_count": 20,
   "id": "ed85bbb8-c8db-4edd-a7e1-b8cf54d19995",
   "metadata": {},
   "outputs": [
    {
     "data": {
      "text/plain": [
       "('Spades', ('King', 10))"
      ]
     },
     "execution_count": 20,
     "metadata": {},
     "output_type": "execute_result"
    }
   ],
   "source": [
    "hit(1)"
   ]
  },
  {
   "cell_type": "markdown",
   "id": "174e8b9a-d065-45dd-acab-bbc57557235d",
   "metadata": {},
   "source": [
    "Let's try adding a turn to the game."
   ]
  },
  {
   "cell_type": "code",
   "execution_count": 26,
   "id": "856d8dd2-80fc-44a9-a0d6-33bf6424e3a7",
   "metadata": {},
   "outputs": [],
   "source": []
  },
  {
   "cell_type": "code",
   "execution_count": 69,
   "id": "4c7cdfaf-bbd5-49dc-8137-39094c6e2587",
   "metadata": {},
   "outputs": [
    {
     "name": "stdin",
     "output_type": "stream",
     "text": [
      "What do you want to do: 'hit', 'stand', 'double down' or 'surrender':\n",
      " hit\n"
     ]
    },
    {
     "name": "stdout",
     "output_type": "stream",
     "text": [
      "[('Diamonds', ('7', 7))]\n"
     ]
    },
    {
     "ename": "KeyboardInterrupt",
     "evalue": "Interrupted by user",
     "output_type": "error",
     "traceback": [
      "\u001b[0;31m---------------------------------------------------------------------------\u001b[0m",
      "\u001b[0;31mKeyboardInterrupt\u001b[0m                         Traceback (most recent call last)",
      "Cell \u001b[0;32mIn[69], line 1\u001b[0m\n\u001b[0;32m----> 1\u001b[0m \u001b[43mdraw_cards\u001b[49m\u001b[43m(\u001b[49m\u001b[43m)\u001b[49m\n",
      "Cell \u001b[0;32mIn[26], line 10\u001b[0m, in \u001b[0;36mdraw_cards\u001b[0;34m()\u001b[0m\n\u001b[1;32m      8\u001b[0m action \u001b[38;5;241m=\u001b[39m \u001b[38;5;124m'\u001b[39m\u001b[38;5;124mhit\u001b[39m\u001b[38;5;124m'\u001b[39m\n\u001b[1;32m      9\u001b[0m \u001b[38;5;28;01mwhile\u001b[39;00m action \u001b[38;5;241m==\u001b[39m \u001b[38;5;124m'\u001b[39m\u001b[38;5;124mhit\u001b[39m\u001b[38;5;124m'\u001b[39m:\n\u001b[0;32m---> 10\u001b[0m     action \u001b[38;5;241m=\u001b[39m \u001b[43mplayer_actions\u001b[49m\u001b[43m(\u001b[49m\u001b[43m)\u001b[49m\n\u001b[1;32m     11\u001b[0m     cards\u001b[38;5;241m.\u001b[39mappend(deal_one())\n\u001b[1;32m     12\u001b[0m     \u001b[38;5;28mprint\u001b[39m(cards)\n",
      "Cell \u001b[0;32mIn[34], line 2\u001b[0m, in \u001b[0;36mplayer_actions\u001b[0;34m()\u001b[0m\n\u001b[1;32m      1\u001b[0m \u001b[38;5;28;01mdef\u001b[39;00m \u001b[38;5;21mplayer_actions\u001b[39m():\n\u001b[0;32m----> 2\u001b[0m     action \u001b[38;5;241m=\u001b[39m \u001b[38;5;28mstr\u001b[39m(\u001b[38;5;28;43minput\u001b[39;49m\u001b[43m(\u001b[49m\u001b[38;5;124;43m\"\u001b[39;49m\u001b[38;5;124;43mWhat do you want to do: \u001b[39;49m\u001b[38;5;124;43m'\u001b[39;49m\u001b[38;5;124;43mhit\u001b[39;49m\u001b[38;5;124;43m'\u001b[39;49m\u001b[38;5;124;43m, \u001b[39;49m\u001b[38;5;124;43m'\u001b[39;49m\u001b[38;5;124;43mstand\u001b[39;49m\u001b[38;5;124;43m'\u001b[39;49m\u001b[38;5;124;43m, \u001b[39;49m\u001b[38;5;124;43m'\u001b[39;49m\u001b[38;5;124;43mdouble down\u001b[39;49m\u001b[38;5;124;43m'\u001b[39;49m\u001b[38;5;124;43m or \u001b[39;49m\u001b[38;5;124;43m'\u001b[39;49m\u001b[38;5;124;43msurrender\u001b[39;49m\u001b[38;5;124;43m'\u001b[39;49m\u001b[38;5;124;43m:\u001b[39;49m\u001b[38;5;130;43;01m\\n\u001b[39;49;00m\u001b[38;5;124;43m\"\u001b[39;49m\u001b[43m)\u001b[49m)\u001b[38;5;241m.\u001b[39mlower()\n\u001b[1;32m      3\u001b[0m     \u001b[38;5;28;01mreturn\u001b[39;00m action\n",
      "File \u001b[0;32m~/miniconda3/envs/100dayscode/lib/python3.10/site-packages/ipykernel/kernelbase.py:1191\u001b[0m, in \u001b[0;36mKernel.raw_input\u001b[0;34m(self, prompt)\u001b[0m\n\u001b[1;32m   1189\u001b[0m     msg \u001b[38;5;241m=\u001b[39m \u001b[38;5;124m\"\u001b[39m\u001b[38;5;124mraw_input was called, but this frontend does not support input requests.\u001b[39m\u001b[38;5;124m\"\u001b[39m\n\u001b[1;32m   1190\u001b[0m     \u001b[38;5;28;01mraise\u001b[39;00m StdinNotImplementedError(msg)\n\u001b[0;32m-> 1191\u001b[0m \u001b[38;5;28;01mreturn\u001b[39;00m \u001b[38;5;28;43mself\u001b[39;49m\u001b[38;5;241;43m.\u001b[39;49m\u001b[43m_input_request\u001b[49m\u001b[43m(\u001b[49m\n\u001b[1;32m   1192\u001b[0m \u001b[43m    \u001b[49m\u001b[38;5;28;43mstr\u001b[39;49m\u001b[43m(\u001b[49m\u001b[43mprompt\u001b[49m\u001b[43m)\u001b[49m\u001b[43m,\u001b[49m\n\u001b[1;32m   1193\u001b[0m \u001b[43m    \u001b[49m\u001b[38;5;28;43mself\u001b[39;49m\u001b[38;5;241;43m.\u001b[39;49m\u001b[43m_parent_ident\u001b[49m\u001b[43m[\u001b[49m\u001b[38;5;124;43m\"\u001b[39;49m\u001b[38;5;124;43mshell\u001b[39;49m\u001b[38;5;124;43m\"\u001b[39;49m\u001b[43m]\u001b[49m\u001b[43m,\u001b[49m\n\u001b[1;32m   1194\u001b[0m \u001b[43m    \u001b[49m\u001b[38;5;28;43mself\u001b[39;49m\u001b[38;5;241;43m.\u001b[39;49m\u001b[43mget_parent\u001b[49m\u001b[43m(\u001b[49m\u001b[38;5;124;43m\"\u001b[39;49m\u001b[38;5;124;43mshell\u001b[39;49m\u001b[38;5;124;43m\"\u001b[39;49m\u001b[43m)\u001b[49m\u001b[43m,\u001b[49m\n\u001b[1;32m   1195\u001b[0m \u001b[43m    \u001b[49m\u001b[43mpassword\u001b[49m\u001b[38;5;241;43m=\u001b[39;49m\u001b[38;5;28;43;01mFalse\u001b[39;49;00m\u001b[43m,\u001b[49m\n\u001b[1;32m   1196\u001b[0m \u001b[43m\u001b[49m\u001b[43m)\u001b[49m\n",
      "File \u001b[0;32m~/miniconda3/envs/100dayscode/lib/python3.10/site-packages/ipykernel/kernelbase.py:1234\u001b[0m, in \u001b[0;36mKernel._input_request\u001b[0;34m(self, prompt, ident, parent, password)\u001b[0m\n\u001b[1;32m   1231\u001b[0m \u001b[38;5;28;01mexcept\u001b[39;00m \u001b[38;5;167;01mKeyboardInterrupt\u001b[39;00m:\n\u001b[1;32m   1232\u001b[0m     \u001b[38;5;66;03m# re-raise KeyboardInterrupt, to truncate traceback\u001b[39;00m\n\u001b[1;32m   1233\u001b[0m     msg \u001b[38;5;241m=\u001b[39m \u001b[38;5;124m\"\u001b[39m\u001b[38;5;124mInterrupted by user\u001b[39m\u001b[38;5;124m\"\u001b[39m\n\u001b[0;32m-> 1234\u001b[0m     \u001b[38;5;28;01mraise\u001b[39;00m \u001b[38;5;167;01mKeyboardInterrupt\u001b[39;00m(msg) \u001b[38;5;28;01mfrom\u001b[39;00m \u001b[38;5;28;01mNone\u001b[39;00m\n\u001b[1;32m   1235\u001b[0m \u001b[38;5;28;01mexcept\u001b[39;00m \u001b[38;5;167;01mException\u001b[39;00m:\n\u001b[1;32m   1236\u001b[0m     \u001b[38;5;28mself\u001b[39m\u001b[38;5;241m.\u001b[39mlog\u001b[38;5;241m.\u001b[39mwarning(\u001b[38;5;124m\"\u001b[39m\u001b[38;5;124mInvalid Message:\u001b[39m\u001b[38;5;124m\"\u001b[39m, exc_info\u001b[38;5;241m=\u001b[39m\u001b[38;5;28;01mTrue\u001b[39;00m)\n",
      "\u001b[0;31mKeyboardInterrupt\u001b[0m: Interrupted by user"
     ]
    }
   ],
   "source": [
    "draw_cards()"
   ]
  },
  {
   "cell_type": "code",
   "execution_count": null,
   "id": "98dcf7e7-b8ae-4f1b-9c70-ce2b0aca3717",
   "metadata": {},
   "outputs": [],
   "source": []
  }
 ],
 "metadata": {
  "kernelspec": {
   "display_name": "Python 3 (ipykernel)",
   "language": "python",
   "name": "python3"
  },
  "language_info": {
   "codemirror_mode": {
    "name": "ipython",
    "version": 3
   },
   "file_extension": ".py",
   "mimetype": "text/x-python",
   "name": "python",
   "nbconvert_exporter": "python",
   "pygments_lexer": "ipython3",
   "version": "3.10.11"
  }
 },
 "nbformat": 4,
 "nbformat_minor": 5
}
